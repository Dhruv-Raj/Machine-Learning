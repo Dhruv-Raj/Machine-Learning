{
 "cells": [
  {
   "cell_type": "code",
   "execution_count": 1,
   "id": "eff11d8d",
   "metadata": {
    "_cell_guid": "b1076dfc-b9ad-4769-8c92-a6c4dae69d19",
    "_uuid": "8f2839f25d086af736a60e9eeb907d3b93b6e0e5",
    "execution": {
     "iopub.execute_input": "2022-03-25T03:52:52.032348Z",
     "iopub.status.busy": "2022-03-25T03:52:52.031440Z",
     "iopub.status.idle": "2022-03-25T03:52:53.094090Z",
     "shell.execute_reply": "2022-03-25T03:52:53.093423Z",
     "shell.execute_reply.started": "2022-03-25T03:50:13.412654Z"
    },
    "papermill": {
     "duration": 1.106619,
     "end_time": "2022-03-25T03:52:53.094255",
     "exception": false,
     "start_time": "2022-03-25T03:52:51.987636",
     "status": "completed"
    },
    "tags": []
   },
   "outputs": [],
   "source": [
    "import numpy as np\n",
    "import pandas as pd\n",
    "import matplotlib.pyplot as plt\n",
    "%matplotlib inline\n",
    "import seaborn as sns\n",
    "import warnings\n",
    "warnings.filterwarnings('ignore')"
   ]
  },
  {
   "cell_type": "code",
   "execution_count": 2,
   "id": "5b455ffe",
   "metadata": {
    "execution": {
     "iopub.execute_input": "2022-03-25T03:52:53.162682Z",
     "iopub.status.busy": "2022-03-25T03:52:53.161900Z",
     "iopub.status.idle": "2022-03-25T03:52:53.197662Z",
     "shell.execute_reply": "2022-03-25T03:52:53.198115Z",
     "shell.execute_reply.started": "2022-03-25T03:50:14.656919Z"
    },
    "papermill": {
     "duration": 0.072727,
     "end_time": "2022-03-25T03:52:53.198286",
     "exception": false,
     "start_time": "2022-03-25T03:52:53.125559",
     "status": "completed"
    },
    "tags": []
   },
   "outputs": [
    {
     "data": {
      "text/html": [
       "<div>\n",
       "<style scoped>\n",
       "    .dataframe tbody tr th:only-of-type {\n",
       "        vertical-align: middle;\n",
       "    }\n",
       "\n",
       "    .dataframe tbody tr th {\n",
       "        vertical-align: top;\n",
       "    }\n",
       "\n",
       "    .dataframe thead th {\n",
       "        text-align: right;\n",
       "    }\n",
       "</style>\n",
       "<table border=\"1\" class=\"dataframe\">\n",
       "  <thead>\n",
       "    <tr style=\"text-align: right;\">\n",
       "      <th></th>\n",
       "      <th>PassengerId</th>\n",
       "      <th>Survived</th>\n",
       "      <th>Pclass</th>\n",
       "      <th>Name</th>\n",
       "      <th>Sex</th>\n",
       "      <th>Age</th>\n",
       "      <th>SibSp</th>\n",
       "      <th>Parch</th>\n",
       "      <th>Ticket</th>\n",
       "      <th>Fare</th>\n",
       "      <th>Cabin</th>\n",
       "      <th>Embarked</th>\n",
       "    </tr>\n",
       "  </thead>\n",
       "  <tbody>\n",
       "    <tr>\n",
       "      <th>0</th>\n",
       "      <td>1</td>\n",
       "      <td>0</td>\n",
       "      <td>3</td>\n",
       "      <td>Braund, Mr. Owen Harris</td>\n",
       "      <td>male</td>\n",
       "      <td>22.0</td>\n",
       "      <td>1</td>\n",
       "      <td>0</td>\n",
       "      <td>A/5 21171</td>\n",
       "      <td>7.2500</td>\n",
       "      <td>NaN</td>\n",
       "      <td>S</td>\n",
       "    </tr>\n",
       "    <tr>\n",
       "      <th>1</th>\n",
       "      <td>2</td>\n",
       "      <td>1</td>\n",
       "      <td>1</td>\n",
       "      <td>Cumings, Mrs. John Bradley (Florence Briggs Th...</td>\n",
       "      <td>female</td>\n",
       "      <td>38.0</td>\n",
       "      <td>1</td>\n",
       "      <td>0</td>\n",
       "      <td>PC 17599</td>\n",
       "      <td>71.2833</td>\n",
       "      <td>C85</td>\n",
       "      <td>C</td>\n",
       "    </tr>\n",
       "    <tr>\n",
       "      <th>2</th>\n",
       "      <td>3</td>\n",
       "      <td>1</td>\n",
       "      <td>3</td>\n",
       "      <td>Heikkinen, Miss. Laina</td>\n",
       "      <td>female</td>\n",
       "      <td>26.0</td>\n",
       "      <td>0</td>\n",
       "      <td>0</td>\n",
       "      <td>STON/O2. 3101282</td>\n",
       "      <td>7.9250</td>\n",
       "      <td>NaN</td>\n",
       "      <td>S</td>\n",
       "    </tr>\n",
       "    <tr>\n",
       "      <th>3</th>\n",
       "      <td>4</td>\n",
       "      <td>1</td>\n",
       "      <td>1</td>\n",
       "      <td>Futrelle, Mrs. Jacques Heath (Lily May Peel)</td>\n",
       "      <td>female</td>\n",
       "      <td>35.0</td>\n",
       "      <td>1</td>\n",
       "      <td>0</td>\n",
       "      <td>113803</td>\n",
       "      <td>53.1000</td>\n",
       "      <td>C123</td>\n",
       "      <td>S</td>\n",
       "    </tr>\n",
       "    <tr>\n",
       "      <th>4</th>\n",
       "      <td>5</td>\n",
       "      <td>0</td>\n",
       "      <td>3</td>\n",
       "      <td>Allen, Mr. William Henry</td>\n",
       "      <td>male</td>\n",
       "      <td>35.0</td>\n",
       "      <td>0</td>\n",
       "      <td>0</td>\n",
       "      <td>373450</td>\n",
       "      <td>8.0500</td>\n",
       "      <td>NaN</td>\n",
       "      <td>S</td>\n",
       "    </tr>\n",
       "  </tbody>\n",
       "</table>\n",
       "</div>"
      ],
      "text/plain": [
       "   PassengerId  Survived  Pclass  \\\n",
       "0            1         0       3   \n",
       "1            2         1       1   \n",
       "2            3         1       3   \n",
       "3            4         1       1   \n",
       "4            5         0       3   \n",
       "\n",
       "                                                Name     Sex   Age  SibSp  \\\n",
       "0                            Braund, Mr. Owen Harris    male  22.0      1   \n",
       "1  Cumings, Mrs. John Bradley (Florence Briggs Th...  female  38.0      1   \n",
       "2                             Heikkinen, Miss. Laina  female  26.0      0   \n",
       "3       Futrelle, Mrs. Jacques Heath (Lily May Peel)  female  35.0      1   \n",
       "4                           Allen, Mr. William Henry    male  35.0      0   \n",
       "\n",
       "   Parch            Ticket     Fare Cabin Embarked  \n",
       "0      0         A/5 21171   7.2500   NaN        S  \n",
       "1      0          PC 17599  71.2833   C85        C  \n",
       "2      0  STON/O2. 3101282   7.9250   NaN        S  \n",
       "3      0            113803  53.1000  C123        S  \n",
       "4      0            373450   8.0500   NaN        S  "
      ]
     },
     "execution_count": 2,
     "metadata": {},
     "output_type": "execute_result"
    }
   ],
   "source": [
    "df_train= pd.read_csv('../input/titanic/titanic.csv')\n",
    "df_train.head()"
   ]
  },
  {
   "cell_type": "code",
   "execution_count": 3,
   "id": "e017c9ab",
   "metadata": {
    "execution": {
     "iopub.execute_input": "2022-03-25T03:52:53.271377Z",
     "iopub.status.busy": "2022-03-25T03:52:53.268934Z",
     "iopub.status.idle": "2022-03-25T03:52:53.274084Z",
     "shell.execute_reply": "2022-03-25T03:52:53.274553Z",
     "shell.execute_reply.started": "2022-03-25T03:50:14.704914Z"
    },
    "papermill": {
     "duration": 0.042058,
     "end_time": "2022-03-25T03:52:53.274707",
     "exception": false,
     "start_time": "2022-03-25T03:52:53.232649",
     "status": "completed"
    },
    "tags": []
   },
   "outputs": [
    {
     "data": {
      "text/plain": [
       "(891, 12)"
      ]
     },
     "execution_count": 3,
     "metadata": {},
     "output_type": "execute_result"
    }
   ],
   "source": [
    "df_train.shape"
   ]
  },
  {
   "cell_type": "code",
   "execution_count": 4,
   "id": "b1d88da5",
   "metadata": {
    "execution": {
     "iopub.execute_input": "2022-03-25T03:52:53.345388Z",
     "iopub.status.busy": "2022-03-25T03:52:53.344818Z",
     "iopub.status.idle": "2022-03-25T03:52:53.368095Z",
     "shell.execute_reply": "2022-03-25T03:52:53.368816Z",
     "shell.execute_reply.started": "2022-03-25T03:50:14.712101Z"
    },
    "papermill": {
     "duration": 0.05914,
     "end_time": "2022-03-25T03:52:53.369048",
     "exception": false,
     "start_time": "2022-03-25T03:52:53.309908",
     "status": "completed"
    },
    "tags": []
   },
   "outputs": [
    {
     "name": "stdout",
     "output_type": "stream",
     "text": [
      "<class 'pandas.core.frame.DataFrame'>\n",
      "RangeIndex: 891 entries, 0 to 890\n",
      "Data columns (total 12 columns):\n",
      " #   Column       Non-Null Count  Dtype  \n",
      "---  ------       --------------  -----  \n",
      " 0   PassengerId  891 non-null    int64  \n",
      " 1   Survived     891 non-null    int64  \n",
      " 2   Pclass       891 non-null    int64  \n",
      " 3   Name         891 non-null    object \n",
      " 4   Sex          891 non-null    object \n",
      " 5   Age          714 non-null    float64\n",
      " 6   SibSp        891 non-null    int64  \n",
      " 7   Parch        891 non-null    int64  \n",
      " 8   Ticket       891 non-null    object \n",
      " 9   Fare         891 non-null    float64\n",
      " 10  Cabin        204 non-null    object \n",
      " 11  Embarked     889 non-null    object \n",
      "dtypes: float64(2), int64(5), object(5)\n",
      "memory usage: 83.7+ KB\n"
     ]
    }
   ],
   "source": [
    "df_train.info()"
   ]
  },
  {
   "cell_type": "code",
   "execution_count": 5,
   "id": "9bb9ba4b",
   "metadata": {
    "execution": {
     "iopub.execute_input": "2022-03-25T03:52:53.446164Z",
     "iopub.status.busy": "2022-03-25T03:52:53.445493Z",
     "iopub.status.idle": "2022-03-25T03:52:53.472072Z",
     "shell.execute_reply": "2022-03-25T03:52:53.471569Z",
     "shell.execute_reply.started": "2022-03-25T03:50:14.746941Z"
    },
    "papermill": {
     "duration": 0.068618,
     "end_time": "2022-03-25T03:52:53.472227",
     "exception": false,
     "start_time": "2022-03-25T03:52:53.403609",
     "status": "completed"
    },
    "tags": []
   },
   "outputs": [
    {
     "data": {
      "text/html": [
       "<div>\n",
       "<style scoped>\n",
       "    .dataframe tbody tr th:only-of-type {\n",
       "        vertical-align: middle;\n",
       "    }\n",
       "\n",
       "    .dataframe tbody tr th {\n",
       "        vertical-align: top;\n",
       "    }\n",
       "\n",
       "    .dataframe thead th {\n",
       "        text-align: right;\n",
       "    }\n",
       "</style>\n",
       "<table border=\"1\" class=\"dataframe\">\n",
       "  <thead>\n",
       "    <tr style=\"text-align: right;\">\n",
       "      <th></th>\n",
       "      <th>count</th>\n",
       "      <th>mean</th>\n",
       "      <th>std</th>\n",
       "      <th>min</th>\n",
       "      <th>25%</th>\n",
       "      <th>50%</th>\n",
       "      <th>75%</th>\n",
       "      <th>max</th>\n",
       "    </tr>\n",
       "  </thead>\n",
       "  <tbody>\n",
       "    <tr>\n",
       "      <th>PassengerId</th>\n",
       "      <td>891.0</td>\n",
       "      <td>446.000000</td>\n",
       "      <td>257.353842</td>\n",
       "      <td>1.00</td>\n",
       "      <td>223.5000</td>\n",
       "      <td>446.0000</td>\n",
       "      <td>668.5</td>\n",
       "      <td>891.0000</td>\n",
       "    </tr>\n",
       "    <tr>\n",
       "      <th>Survived</th>\n",
       "      <td>891.0</td>\n",
       "      <td>0.383838</td>\n",
       "      <td>0.486592</td>\n",
       "      <td>0.00</td>\n",
       "      <td>0.0000</td>\n",
       "      <td>0.0000</td>\n",
       "      <td>1.0</td>\n",
       "      <td>1.0000</td>\n",
       "    </tr>\n",
       "    <tr>\n",
       "      <th>Pclass</th>\n",
       "      <td>891.0</td>\n",
       "      <td>2.308642</td>\n",
       "      <td>0.836071</td>\n",
       "      <td>1.00</td>\n",
       "      <td>2.0000</td>\n",
       "      <td>3.0000</td>\n",
       "      <td>3.0</td>\n",
       "      <td>3.0000</td>\n",
       "    </tr>\n",
       "    <tr>\n",
       "      <th>Age</th>\n",
       "      <td>714.0</td>\n",
       "      <td>29.699118</td>\n",
       "      <td>14.526497</td>\n",
       "      <td>0.42</td>\n",
       "      <td>20.1250</td>\n",
       "      <td>28.0000</td>\n",
       "      <td>38.0</td>\n",
       "      <td>80.0000</td>\n",
       "    </tr>\n",
       "    <tr>\n",
       "      <th>SibSp</th>\n",
       "      <td>891.0</td>\n",
       "      <td>0.523008</td>\n",
       "      <td>1.102743</td>\n",
       "      <td>0.00</td>\n",
       "      <td>0.0000</td>\n",
       "      <td>0.0000</td>\n",
       "      <td>1.0</td>\n",
       "      <td>8.0000</td>\n",
       "    </tr>\n",
       "    <tr>\n",
       "      <th>Parch</th>\n",
       "      <td>891.0</td>\n",
       "      <td>0.381594</td>\n",
       "      <td>0.806057</td>\n",
       "      <td>0.00</td>\n",
       "      <td>0.0000</td>\n",
       "      <td>0.0000</td>\n",
       "      <td>0.0</td>\n",
       "      <td>6.0000</td>\n",
       "    </tr>\n",
       "    <tr>\n",
       "      <th>Fare</th>\n",
       "      <td>891.0</td>\n",
       "      <td>32.204208</td>\n",
       "      <td>49.693429</td>\n",
       "      <td>0.00</td>\n",
       "      <td>7.9104</td>\n",
       "      <td>14.4542</td>\n",
       "      <td>31.0</td>\n",
       "      <td>512.3292</td>\n",
       "    </tr>\n",
       "  </tbody>\n",
       "</table>\n",
       "</div>"
      ],
      "text/plain": [
       "             count        mean         std   min       25%       50%    75%  \\\n",
       "PassengerId  891.0  446.000000  257.353842  1.00  223.5000  446.0000  668.5   \n",
       "Survived     891.0    0.383838    0.486592  0.00    0.0000    0.0000    1.0   \n",
       "Pclass       891.0    2.308642    0.836071  1.00    2.0000    3.0000    3.0   \n",
       "Age          714.0   29.699118   14.526497  0.42   20.1250   28.0000   38.0   \n",
       "SibSp        891.0    0.523008    1.102743  0.00    0.0000    0.0000    1.0   \n",
       "Parch        891.0    0.381594    0.806057  0.00    0.0000    0.0000    0.0   \n",
       "Fare         891.0   32.204208   49.693429  0.00    7.9104   14.4542   31.0   \n",
       "\n",
       "                  max  \n",
       "PassengerId  891.0000  \n",
       "Survived       1.0000  \n",
       "Pclass         3.0000  \n",
       "Age           80.0000  \n",
       "SibSp          8.0000  \n",
       "Parch          6.0000  \n",
       "Fare         512.3292  "
      ]
     },
     "execution_count": 5,
     "metadata": {},
     "output_type": "execute_result"
    }
   ],
   "source": [
    "df_train.describe().T"
   ]
  },
  {
   "cell_type": "markdown",
   "id": "fbcb8a01",
   "metadata": {
    "execution": {
     "iopub.execute_input": "2022-03-24T16:19:18.128145Z",
     "iopub.status.busy": "2022-03-24T16:19:18.127192Z",
     "iopub.status.idle": "2022-03-24T16:19:18.133294Z",
     "shell.execute_reply": "2022-03-24T16:19:18.132495Z",
     "shell.execute_reply.started": "2022-03-24T16:19:18.128093Z"
    },
    "papermill": {
     "duration": 0.032348,
     "end_time": "2022-03-25T03:52:53.537163",
     "exception": false,
     "start_time": "2022-03-25T03:52:53.504815",
     "status": "completed"
    },
    "tags": []
   },
   "source": [
    "### Exploratory Data Analysis"
   ]
  },
  {
   "cell_type": "code",
   "execution_count": 6,
   "id": "2b306017",
   "metadata": {
    "execution": {
     "iopub.execute_input": "2022-03-25T03:52:53.608706Z",
     "iopub.status.busy": "2022-03-25T03:52:53.608068Z",
     "iopub.status.idle": "2022-03-25T03:52:53.778586Z",
     "shell.execute_reply": "2022-03-25T03:52:53.778097Z",
     "shell.execute_reply.started": "2022-03-25T03:50:14.784580Z"
    },
    "papermill": {
     "duration": 0.209164,
     "end_time": "2022-03-25T03:52:53.778724",
     "exception": false,
     "start_time": "2022-03-25T03:52:53.569560",
     "status": "completed"
    },
    "tags": []
   },
   "outputs": [
    {
     "data": {
      "image/png": "[encoded data removed]",
      "text/plain": [
       "<Figure size 720x504 with 1 Axes>"
      ]
     },
     "metadata": {
      "needs_background": "light"
     },
     "output_type": "display_data"
    }
   ],
   "source": [
    "###  Number of unique values in 'Survived' Feature\n",
    "plt.figure(figsize=(10, 7))\n",
    "ax=sns.countplot('Survived', data= df_train)\n",
    "for p in ax.patches:\n",
    "   ax.annotate('{:.1f}'.format(p.get_height()), (p.get_x()+0.3, p.get_height()+4))"
   ]
  },
  {
   "cell_type": "markdown",
   "id": "6ab50a7f",
   "metadata": {
    "papermill": {
     "duration": 0.032827,
     "end_time": "2022-03-25T03:52:53.844605",
     "exception": false,
     "start_time": "2022-03-25T03:52:53.811778",
     "status": "completed"
    },
    "tags": []
   },
   "source": [
    "Maximum number of people are not survived in the accidient."
   ]
  },
  {
   "cell_type": "code",
   "execution_count": 7,
   "id": "b469975b",
   "metadata": {
    "execution": {
     "iopub.execute_input": "2022-03-25T03:52:53.918296Z",
     "iopub.status.busy": "2022-03-25T03:52:53.917695Z",
     "iopub.status.idle": "2022-03-25T03:52:54.121551Z",
     "shell.execute_reply": "2022-03-25T03:52:54.122039Z",
     "shell.execute_reply.started": "2022-03-25T03:50:14.989598Z"
    },
    "papermill": {
     "duration": 0.243925,
     "end_time": "2022-03-25T03:52:54.122194",
     "exception": false,
     "start_time": "2022-03-25T03:52:53.878269",
     "status": "completed"
    },
    "tags": []
   },
   "outputs": [
    {
     "data": {
      "image/png": "[encoded data removed]",
      "text/plain": [
       "<Figure size 720x504 with 1 Axes>"
      ]
     },
     "metadata": {
      "needs_background": "light"
     },
     "output_type": "display_data"
    }
   ],
   "source": [
    "###  Number of unique values in 'Survived' feature according to 'Sex'\n",
    "plt.figure(figsize=(10, 7))\n",
    "ax=sns.countplot(x='Survived', hue= 'Sex', data= df_train)\n",
    "for p in ax.patches:\n",
    "   ax.annotate('{:.1f}'.format(p.get_height()), (p.get_x()+0.15, p.get_height()+3))"
   ]
  },
  {
   "cell_type": "markdown",
   "id": "fd4d860b",
   "metadata": {
    "papermill": {
     "duration": 0.033643,
     "end_time": "2022-03-25T03:52:54.189834",
     "exception": false,
     "start_time": "2022-03-25T03:52:54.156191",
     "status": "completed"
    },
    "tags": []
   },
   "source": [
    "More the number of 'Males' passengers are died as compared to 'Females' passengers"
   ]
  },
  {
   "cell_type": "code",
   "execution_count": 8,
   "id": "63ec61c0",
   "metadata": {
    "execution": {
     "iopub.execute_input": "2022-03-25T03:52:54.260678Z",
     "iopub.status.busy": "2022-03-25T03:52:54.260026Z",
     "iopub.status.idle": "2022-03-25T03:52:54.504546Z",
     "shell.execute_reply": "2022-03-25T03:52:54.505022Z",
     "shell.execute_reply.started": "2022-03-25T03:50:15.201985Z"
    },
    "papermill": {
     "duration": 0.281743,
     "end_time": "2022-03-25T03:52:54.505241",
     "exception": false,
     "start_time": "2022-03-25T03:52:54.223498",
     "status": "completed"
    },
    "tags": []
   },
   "outputs": [
    {
     "data": {
      "image/png": "[encoded data removed]",
      "text/plain": [
       "<Figure size 720x504 with 1 Axes>"
      ]
     },
     "metadata": {
      "needs_background": "light"
     },
     "output_type": "display_data"
    }
   ],
   "source": [
    "### Number of Survived and Not-Survives according to 'Pclass' feature.\n",
    "plt.figure(figsize=(10, 7))\n",
    "ax= sns.countplot(x= 'Survived', hue= 'Pclass', palette= 'Paired', data= df_train)\n",
    "for p in ax.patches:\n",
    "    ax.annotate('{:.1f}'.format(p.get_height()), (p.get_x()+0.1, p.get_height()+3))"
   ]
  },
  {
   "cell_type": "markdown",
   "id": "fa160103",
   "metadata": {
    "papermill": {
     "duration": 0.034211,
     "end_time": "2022-03-25T03:52:54.574203",
     "exception": false,
     "start_time": "2022-03-25T03:52:54.539992",
     "status": "completed"
    },
    "tags": []
   },
   "source": [
    "Passenger from 'Pclass=3' are died more as comapre to the passenger of 'Pclass=1 and 2'. "
   ]
  },
  {
   "cell_type": "code",
   "execution_count": 9,
   "id": "2098db7d",
   "metadata": {
    "execution": {
     "iopub.execute_input": "2022-03-25T03:52:54.648394Z",
     "iopub.status.busy": "2022-03-25T03:52:54.647802Z",
     "iopub.status.idle": "2022-03-25T03:52:54.960369Z",
     "shell.execute_reply": "2022-03-25T03:52:54.959823Z",
     "shell.execute_reply.started": "2022-03-25T03:50:15.442684Z"
    },
    "papermill": {
     "duration": 0.350587,
     "end_time": "2022-03-25T03:52:54.960526",
     "exception": false,
     "start_time": "2022-03-25T03:52:54.609939",
     "status": "completed"
    },
    "tags": []
   },
   "outputs": [
    {
     "data": {
      "text/plain": [
       "<seaborn.axisgrid.FacetGrid at 0x7f13b7a56c50>"
      ]
     },
     "execution_count": 9,
     "metadata": {},
     "output_type": "execute_result"
    },
    {
     "data": {
      "text/plain": [
       "<Figure size 720x504 with 0 Axes>"
      ]
     },
     "metadata": {},
     "output_type": "display_data"
    },
    {
     "data": {
      "image/png": "[encoded data removed]",
      "text/plain": [
       "<Figure size 360x360 with 1 Axes>"
      ]
     },
     "metadata": {
      "needs_background": "light"
     },
     "output_type": "display_data"
    }
   ],
   "source": [
    "plt.figure(figsize=(10, 7))\n",
    "sns.displot(df_train['Age'].dropna(), color= 'c', bins=10)"
   ]
  },
  {
   "cell_type": "markdown",
   "id": "6fe1554e",
   "metadata": {
    "papermill": {
     "duration": 0.035924,
     "end_time": "2022-03-25T03:52:55.032229",
     "exception": false,
     "start_time": "2022-03-25T03:52:54.996305",
     "status": "completed"
    },
    "tags": []
   },
   "source": [
    "Majority of Passenger were from 'Age' between 28 to 32 years."
   ]
  },
  {
   "cell_type": "code",
   "execution_count": 10,
   "id": "30cce14d",
   "metadata": {
    "execution": {
     "iopub.execute_input": "2022-03-25T03:52:55.110570Z",
     "iopub.status.busy": "2022-03-25T03:52:55.109960Z",
     "iopub.status.idle": "2022-03-25T03:52:55.341984Z",
     "shell.execute_reply": "2022-03-25T03:52:55.341510Z",
     "shell.execute_reply.started": "2022-03-25T03:50:15.734346Z"
    },
    "papermill": {
     "duration": 0.273945,
     "end_time": "2022-03-25T03:52:55.342121",
     "exception": false,
     "start_time": "2022-03-25T03:52:55.068176",
     "status": "completed"
    },
    "tags": []
   },
   "outputs": [
    {
     "data": {
      "image/png": "[encoded data removed]",
      "text/plain": [
       "<Figure size 720x504 with 1 Axes>"
      ]
     },
     "metadata": {
      "needs_background": "light"
     },
     "output_type": "display_data"
    }
   ],
   "source": [
    "### Number of Passenger with their 'SibSp'\n",
    "plt.figure(figsize=(10, 7))\n",
    "ax= sns.countplot(x= 'SibSp', palette= 'Paired', data= df_train)\n",
    "for p in ax.patches:\n",
    "    ax.annotate('{:.1f}'.format(p.get_height()), (p.get_x()+0.2, p.get_height()+3.9))"
   ]
  },
  {
   "cell_type": "markdown",
   "id": "feeb837a",
   "metadata": {
    "papermill": {
     "duration": 0.036004,
     "end_time": "2022-03-25T03:52:55.414604",
     "exception": false,
     "start_time": "2022-03-25T03:52:55.378600",
     "status": "completed"
    },
    "tags": []
   },
   "source": [
    "Maximum number of passengers were travelling 'Alone'."
   ]
  },
  {
   "cell_type": "markdown",
   "id": "447d6694",
   "metadata": {
    "papermill": {
     "duration": 0.036149,
     "end_time": "2022-03-25T03:52:55.487170",
     "exception": false,
     "start_time": "2022-03-25T03:52:55.451021",
     "status": "completed"
    },
    "tags": []
   },
   "source": [
    "### Data-Cleaning and Treating the 'NaN' Values"
   ]
  },
  {
   "cell_type": "code",
   "execution_count": 11,
   "id": "31642326",
   "metadata": {
    "execution": {
     "iopub.execute_input": "2022-03-25T03:52:55.564590Z",
     "iopub.status.busy": "2022-03-25T03:52:55.563987Z",
     "iopub.status.idle": "2022-03-25T03:52:55.569552Z",
     "shell.execute_reply": "2022-03-25T03:52:55.569066Z",
     "shell.execute_reply.started": "2022-03-25T03:50:15.968424Z"
    },
    "papermill": {
     "duration": 0.046127,
     "end_time": "2022-03-25T03:52:55.569689",
     "exception": false,
     "start_time": "2022-03-25T03:52:55.523562",
     "status": "completed"
    },
    "tags": []
   },
   "outputs": [
    {
     "data": {
      "text/plain": [
       "Index(['Age', 'Cabin', 'Embarked'], dtype='object')"
      ]
     },
     "execution_count": 11,
     "metadata": {},
     "output_type": "execute_result"
    }
   ],
   "source": [
    "### To Get the features name with 'NaN' values\n",
    "df_train.columns[df_train.isnull().any()]"
   ]
  },
  {
   "cell_type": "code",
   "execution_count": 12,
   "id": "420d8ada",
   "metadata": {
    "execution": {
     "iopub.execute_input": "2022-03-25T03:52:55.646484Z",
     "iopub.status.busy": "2022-03-25T03:52:55.645893Z",
     "iopub.status.idle": "2022-03-25T03:52:55.653773Z",
     "shell.execute_reply": "2022-03-25T03:52:55.653286Z",
     "shell.execute_reply.started": "2022-03-25T03:50:15.980382Z"
    },
    "papermill": {
     "duration": 0.047474,
     "end_time": "2022-03-25T03:52:55.653901",
     "exception": false,
     "start_time": "2022-03-25T03:52:55.606427",
     "status": "completed"
    },
    "tags": []
   },
   "outputs": [
    {
     "name": "stdout",
     "output_type": "stream",
     "text": [
      "PassengerId     0.00\n",
      "Survived        0.00\n",
      "Pclass          0.00\n",
      "Name            0.00\n",
      "Sex             0.00\n",
      "Age            19.87\n",
      "SibSp           0.00\n",
      "Parch           0.00\n",
      "Ticket          0.00\n",
      "Fare            0.00\n",
      "Cabin          77.10\n",
      "Embarked        0.22\n",
      "dtype: float64\n"
     ]
    }
   ],
   "source": [
    "### Get the 'Precentage' of the feature with 'NaN' values\n",
    "print(round(df_train.isna().mean(), 4)*100)"
   ]
  },
  {
   "cell_type": "code",
   "execution_count": 13,
   "id": "5c993eaa",
   "metadata": {
    "execution": {
     "iopub.execute_input": "2022-03-25T03:52:55.734260Z",
     "iopub.status.busy": "2022-03-25T03:52:55.733691Z",
     "iopub.status.idle": "2022-03-25T03:52:55.964965Z",
     "shell.execute_reply": "2022-03-25T03:52:55.965383Z",
     "shell.execute_reply.started": "2022-03-25T03:50:15.996019Z"
    },
    "papermill": {
     "duration": 0.27429,
     "end_time": "2022-03-25T03:52:55.965602",
     "exception": false,
     "start_time": "2022-03-25T03:52:55.691312",
     "status": "completed"
    },
    "tags": []
   },
   "outputs": [
    {
     "data": {
      "text/plain": [
       "<AxesSubplot:xlabel='Pclass', ylabel='Age'>"
      ]
     },
     "execution_count": 13,
     "metadata": {},
     "output_type": "execute_result"
    },
    {
     "data": {
      "image/png": "[encoded data removed]",
      "text/plain": [
       "<Figure size 1080x648 with 1 Axes>"
      ]
     },
     "metadata": {
      "needs_background": "light"
     },
     "output_type": "display_data"
    }
   ],
   "source": [
    "plt.figure(figsize=(15, 9))\n",
    "sns.boxplot(y= df_train['Age'], x= df_train['Pclass'])"
   ]
  },
  {
   "cell_type": "code",
   "execution_count": 14,
   "id": "5b391d32",
   "metadata": {
    "execution": {
     "iopub.execute_input": "2022-03-25T03:52:56.048539Z",
     "iopub.status.busy": "2022-03-25T03:52:56.047596Z",
     "iopub.status.idle": "2022-03-25T03:52:56.053474Z",
     "shell.execute_reply": "2022-03-25T03:52:56.053919Z",
     "shell.execute_reply.started": "2022-03-25T03:50:16.224906Z"
    },
    "papermill": {
     "duration": 0.049397,
     "end_time": "2022-03-25T03:52:56.054092",
     "exception": false,
     "start_time": "2022-03-25T03:52:56.004695",
     "status": "completed"
    },
    "tags": []
   },
   "outputs": [],
   "source": [
    "### Fill 'Nan' Values for Age accordingly with Pclass mean\n",
    "def impute_age(cols):\n",
    "    Age=cols[0]\n",
    "    Pclass=cols[1]\n",
    "    if pd.isnull(Age):\n",
    "        if Pclass==1:\n",
    "            return df_train[df_train['Pclass']==1]['Age'].mean()\n",
    "        elif Pclass==2:\n",
    "            return df_train[df_train['Pclass']==2]['Age'].mean()\n",
    "        elif Pclass==3:\n",
    "            return df_train[df_train['Pclass']==3]['Age'].mean()\n",
    "    else:\n",
    "        return Age"
   ]
  },
  {
   "cell_type": "code",
   "execution_count": 15,
   "id": "2c0de277",
   "metadata": {
    "execution": {
     "iopub.execute_input": "2022-03-25T03:52:56.134939Z",
     "iopub.status.busy": "2022-03-25T03:52:56.134015Z",
     "iopub.status.idle": "2022-03-25T03:52:56.248171Z",
     "shell.execute_reply": "2022-03-25T03:52:56.247639Z",
     "shell.execute_reply.started": "2022-03-25T03:50:16.234326Z"
    },
    "papermill": {
     "duration": 0.155626,
     "end_time": "2022-03-25T03:52:56.248316",
     "exception": false,
     "start_time": "2022-03-25T03:52:56.092690",
     "status": "completed"
    },
    "tags": []
   },
   "outputs": [],
   "source": [
    "# df_train['Age']= df_train[['Age', 'Pclass']].apply(impute_age, axis=1)\n",
    "df_train['Age']= df_train[['Age', 'Pclass']].apply(impute_age, axis=1)"
   ]
  },
  {
   "cell_type": "code",
   "execution_count": 16,
   "id": "c731776e",
   "metadata": {
    "execution": {
     "iopub.execute_input": "2022-03-25T03:52:56.331777Z",
     "iopub.status.busy": "2022-03-25T03:52:56.331159Z",
     "iopub.status.idle": "2022-03-25T03:52:56.334168Z",
     "shell.execute_reply": "2022-03-25T03:52:56.333543Z",
     "shell.execute_reply.started": "2022-03-25T03:50:16.371037Z"
    },
    "papermill": {
     "duration": 0.047414,
     "end_time": "2022-03-25T03:52:56.334306",
     "exception": false,
     "start_time": "2022-03-25T03:52:56.286892",
     "status": "completed"
    },
    "tags": []
   },
   "outputs": [],
   "source": [
    "### We can drop the 'Cabin' Feature as more than 50% values are 'NaN'\n",
    "df_train.drop('Cabin', axis=1, inplace= True)"
   ]
  },
  {
   "cell_type": "code",
   "execution_count": 17,
   "id": "58183e37",
   "metadata": {
    "execution": {
     "iopub.execute_input": "2022-03-25T03:52:56.418552Z",
     "iopub.status.busy": "2022-03-25T03:52:56.417877Z",
     "iopub.status.idle": "2022-03-25T03:52:56.423093Z",
     "shell.execute_reply": "2022-03-25T03:52:56.422607Z",
     "shell.execute_reply.started": "2022-03-25T03:50:16.378999Z"
    },
    "papermill": {
     "duration": 0.04945,
     "end_time": "2022-03-25T03:52:56.423231",
     "exception": false,
     "start_time": "2022-03-25T03:52:56.373781",
     "status": "completed"
    },
    "tags": []
   },
   "outputs": [],
   "source": [
    "### We know that 'Embarked' feature has only 0.22% of 'NaN' values. So, we can drop that 'Observations/Records'\n",
    "df_train.dropna(axis= 0, inplace= True)"
   ]
  },
  {
   "cell_type": "code",
   "execution_count": 18,
   "id": "529f782a",
   "metadata": {
    "execution": {
     "iopub.execute_input": "2022-03-25T03:52:56.508017Z",
     "iopub.status.busy": "2022-03-25T03:52:56.507381Z",
     "iopub.status.idle": "2022-03-25T03:52:56.510491Z",
     "shell.execute_reply": "2022-03-25T03:52:56.509927Z",
     "shell.execute_reply.started": "2022-03-25T03:50:16.400689Z"
    },
    "papermill": {
     "duration": 0.047404,
     "end_time": "2022-03-25T03:52:56.510624",
     "exception": false,
     "start_time": "2022-03-25T03:52:56.463220",
     "status": "completed"
    },
    "tags": []
   },
   "outputs": [],
   "source": [
    "### Features like 'PassengerId', 'Name', 'Ticket' do not play important role in our model so, we can drop these features\n",
    "df_train.drop(['PassengerId', 'Name', 'Ticket'], axis=1, inplace= True)"
   ]
  },
  {
   "cell_type": "code",
   "execution_count": 19,
   "id": "c851d277",
   "metadata": {
    "execution": {
     "iopub.execute_input": "2022-03-25T03:52:56.598805Z",
     "iopub.status.busy": "2022-03-25T03:52:56.598213Z",
     "iopub.status.idle": "2022-03-25T03:52:56.601559Z",
     "shell.execute_reply": "2022-03-25T03:52:56.601959Z",
     "shell.execute_reply.started": "2022-03-25T03:50:16.416477Z"
    },
    "papermill": {
     "duration": 0.052825,
     "end_time": "2022-03-25T03:52:56.602120",
     "exception": false,
     "start_time": "2022-03-25T03:52:56.549295",
     "status": "completed"
    },
    "tags": []
   },
   "outputs": [
    {
     "data": {
      "text/html": [
       "<div>\n",
       "<style scoped>\n",
       "    .dataframe tbody tr th:only-of-type {\n",
       "        vertical-align: middle;\n",
       "    }\n",
       "\n",
       "    .dataframe tbody tr th {\n",
       "        vertical-align: top;\n",
       "    }\n",
       "\n",
       "    .dataframe thead th {\n",
       "        text-align: right;\n",
       "    }\n",
       "</style>\n",
       "<table border=\"1\" class=\"dataframe\">\n",
       "  <thead>\n",
       "    <tr style=\"text-align: right;\">\n",
       "      <th></th>\n",
       "      <th>Survived</th>\n",
       "      <th>Pclass</th>\n",
       "      <th>Sex</th>\n",
       "      <th>Age</th>\n",
       "      <th>SibSp</th>\n",
       "      <th>Parch</th>\n",
       "      <th>Fare</th>\n",
       "      <th>Embarked</th>\n",
       "    </tr>\n",
       "  </thead>\n",
       "  <tbody>\n",
       "    <tr>\n",
       "      <th>0</th>\n",
       "      <td>0</td>\n",
       "      <td>3</td>\n",
       "      <td>male</td>\n",
       "      <td>22.0</td>\n",
       "      <td>1</td>\n",
       "      <td>0</td>\n",
       "      <td>7.2500</td>\n",
       "      <td>S</td>\n",
       "    </tr>\n",
       "    <tr>\n",
       "      <th>1</th>\n",
       "      <td>1</td>\n",
       "      <td>1</td>\n",
       "      <td>female</td>\n",
       "      <td>38.0</td>\n",
       "      <td>1</td>\n",
       "      <td>0</td>\n",
       "      <td>71.2833</td>\n",
       "      <td>C</td>\n",
       "    </tr>\n",
       "    <tr>\n",
       "      <th>2</th>\n",
       "      <td>1</td>\n",
       "      <td>3</td>\n",
       "      <td>female</td>\n",
       "      <td>26.0</td>\n",
       "      <td>0</td>\n",
       "      <td>0</td>\n",
       "      <td>7.9250</td>\n",
       "      <td>S</td>\n",
       "    </tr>\n",
       "    <tr>\n",
       "      <th>3</th>\n",
       "      <td>1</td>\n",
       "      <td>1</td>\n",
       "      <td>female</td>\n",
       "      <td>35.0</td>\n",
       "      <td>1</td>\n",
       "      <td>0</td>\n",
       "      <td>53.1000</td>\n",
       "      <td>S</td>\n",
       "    </tr>\n",
       "    <tr>\n",
       "      <th>4</th>\n",
       "      <td>0</td>\n",
       "      <td>3</td>\n",
       "      <td>male</td>\n",
       "      <td>35.0</td>\n",
       "      <td>0</td>\n",
       "      <td>0</td>\n",
       "      <td>8.0500</td>\n",
       "      <td>S</td>\n",
       "    </tr>\n",
       "  </tbody>\n",
       "</table>\n",
       "</div>"
      ],
      "text/plain": [
       "   Survived  Pclass     Sex   Age  SibSp  Parch     Fare Embarked\n",
       "0         0       3    male  22.0      1      0   7.2500        S\n",
       "1         1       1  female  38.0      1      0  71.2833        C\n",
       "2         1       3  female  26.0      0      0   7.9250        S\n",
       "3         1       1  female  35.0      1      0  53.1000        S\n",
       "4         0       3    male  35.0      0      0   8.0500        S"
      ]
     },
     "execution_count": 19,
     "metadata": {},
     "output_type": "execute_result"
    }
   ],
   "source": [
    "df_train.head()"
   ]
  },
  {
   "cell_type": "code",
   "execution_count": 20,
   "id": "d911e187",
   "metadata": {
    "execution": {
     "iopub.execute_input": "2022-03-25T03:52:56.687627Z",
     "iopub.status.busy": "2022-03-25T03:52:56.686945Z",
     "iopub.status.idle": "2022-03-25T03:52:56.689535Z",
     "shell.execute_reply": "2022-03-25T03:52:56.689977Z",
     "shell.execute_reply.started": "2022-03-25T03:50:16.435469Z"
    },
    "papermill": {
     "duration": 0.049357,
     "end_time": "2022-03-25T03:52:56.690154",
     "exception": false,
     "start_time": "2022-03-25T03:52:56.640797",
     "status": "completed"
    },
    "tags": []
   },
   "outputs": [],
   "source": [
    "### Now we have to do 'Lable-Encoding' of feature  like 'Sex' and 'Embarked' as they are in categories\n",
    "df_train['Sex']= df_train['Sex'].map({'female': 0, 'male': 1})\n",
    "df_train['Embarked']= df_train['Embarked'].map({'S': 0, 'C': 1, 'Q': 2})"
   ]
  },
  {
   "cell_type": "code",
   "execution_count": 21,
   "id": "52f4fcb6",
   "metadata": {
    "execution": {
     "iopub.execute_input": "2022-03-25T03:52:56.776574Z",
     "iopub.status.busy": "2022-03-25T03:52:56.772915Z",
     "iopub.status.idle": "2022-03-25T03:52:56.780034Z",
     "shell.execute_reply": "2022-03-25T03:52:56.779519Z",
     "shell.execute_reply.started": "2022-03-25T03:50:16.452210Z"
    },
    "papermill": {
     "duration": 0.050937,
     "end_time": "2022-03-25T03:52:56.780162",
     "exception": false,
     "start_time": "2022-03-25T03:52:56.729225",
     "status": "completed"
    },
    "tags": []
   },
   "outputs": [
    {
     "data": {
      "text/plain": [
       "Survived    0.484568\n",
       "Pclass     -0.636998\n",
       "Sex        -0.625625\n",
       "Age         0.507710\n",
       "SibSp       3.691058\n",
       "Parch       2.745160\n",
       "Fare        4.801440\n",
       "Embarked    1.539926\n",
       "dtype: float64"
      ]
     },
     "execution_count": 21,
     "metadata": {},
     "output_type": "execute_result"
    }
   ],
   "source": [
    "### Checking the skewness of features, we want our feature to be normally skeweed\n",
    "df_train.skew()"
   ]
  },
  {
   "cell_type": "code",
   "execution_count": 22,
   "id": "5d757d0e",
   "metadata": {
    "execution": {
     "iopub.execute_input": "2022-03-25T03:52:56.876518Z",
     "iopub.status.busy": "2022-03-25T03:52:56.875914Z",
     "iopub.status.idle": "2022-03-25T03:52:59.096059Z",
     "shell.execute_reply": "2022-03-25T03:52:59.096496Z",
     "shell.execute_reply.started": "2022-03-25T03:50:16.472552Z"
    },
    "papermill": {
     "duration": 2.277368,
     "end_time": "2022-03-25T03:52:59.096663",
     "exception": false,
     "start_time": "2022-03-25T03:52:56.819295",
     "status": "completed"
    },
    "tags": []
   },
   "outputs": [
    {
     "data": {
      "image/png": "[encoded data removed]",
      "text/plain": [
       "<Figure size 1080x648 with 1 Axes>"
      ]
     },
     "metadata": {
      "needs_background": "light"
     },
     "output_type": "display_data"
    },
    {
     "data": {
      "image/png": "[encoded data removed]",
      "text/plain": [
       "<Figure size 1080x648 with 1 Axes>"
      ]
     },
     "metadata": {
      "needs_background": "light"
     },
     "output_type": "display_data"
    },
    {
     "data": {
      "image/png": "[encoded data removed]",
      "text/plain": [
       "<Figure size 1080x648 with 1 Axes>"
      ]
     },
     "metadata": {
      "needs_background": "light"
     },
     "output_type": "display_data"
    },
    {
     "data": {
      "image/png": "[encoded data removed]",
      "text/plain": [
       "<Figure size 1080x648 with 1 Axes>"
      ]
     },
     "metadata": {
      "needs_background": "light"
     },
     "output_type": "display_data"
    },
    {
     "data": {
      "image/png": "[encoded data removed]",
      "text/plain": [
       "<Figure size 1080x648 with 1 Axes>"
      ]
     },
     "metadata": {
      "needs_background": "light"
     },
     "output_type": "display_data"
    },
    {
     "data": {
      "image/png": "[encoded data removed]",
      "text/plain": [
       "<Figure size 1080x648 with 1 Axes>"
      ]
     },
     "metadata": {
      "needs_background": "light"
     },
     "output_type": "display_data"
    },
    {
     "data": {
      "image/png": "[encoded data removed]",
      "text/plain": [
       "<Figure size 1080x648 with 1 Axes>"
      ]
     },
     "metadata": {
      "needs_background": "light"
     },
     "output_type": "display_data"
    },
    {
     "data": {
      "image/png": "[encoded data removed]",
      "text/plain": [
       "<Figure size 1080x648 with 1 Axes>"
      ]
     },
     "metadata": {
      "needs_background": "light"
     },
     "output_type": "display_data"
    }
   ],
   "source": [
    "for features in df_train.columns:\n",
    "    plt.figure(figsize= (15, 9))\n",
    "    sns.distplot(df_train[features])\n",
    "    plt.plot()"
   ]
  },
  {
   "cell_type": "markdown",
   "id": "b1fefa92",
   "metadata": {
    "papermill": {
     "duration": 0.047837,
     "end_time": "2022-03-25T03:52:59.192621",
     "exception": false,
     "start_time": "2022-03-25T03:52:59.144784",
     "status": "completed"
    },
    "tags": []
   },
   "source": [
    "'Fare' feature is positively Skewed. So we have to transform it to Normally distributed."
   ]
  },
  {
   "cell_type": "code",
   "execution_count": 23,
   "id": "b54b34d8",
   "metadata": {
    "execution": {
     "iopub.execute_input": "2022-03-25T03:52:59.293648Z",
     "iopub.status.busy": "2022-03-25T03:52:59.290789Z",
     "iopub.status.idle": "2022-03-25T03:52:59.296517Z",
     "shell.execute_reply": "2022-03-25T03:52:59.296044Z",
     "shell.execute_reply.started": "2022-03-25T03:50:18.630506Z"
    },
    "papermill": {
     "duration": 0.056747,
     "end_time": "2022-03-25T03:52:59.296667",
     "exception": false,
     "start_time": "2022-03-25T03:52:59.239920",
     "status": "completed"
    },
    "tags": []
   },
   "outputs": [],
   "source": [
    "df_train['Fare']= np.cbrt(df_train['Fare'])"
   ]
  },
  {
   "cell_type": "code",
   "execution_count": 24,
   "id": "c4fecf56",
   "metadata": {
    "execution": {
     "iopub.execute_input": "2022-03-25T03:52:59.417597Z",
     "iopub.status.busy": "2022-03-25T03:52:59.414798Z",
     "iopub.status.idle": "2022-03-25T03:52:59.683425Z",
     "shell.execute_reply": "2022-03-25T03:52:59.682902Z",
     "shell.execute_reply.started": "2022-03-25T03:50:18.639097Z"
    },
    "papermill": {
     "duration": 0.339356,
     "end_time": "2022-03-25T03:52:59.683604",
     "exception": false,
     "start_time": "2022-03-25T03:52:59.344248",
     "status": "completed"
    },
    "tags": []
   },
   "outputs": [
    {
     "data": {
      "text/plain": [
       "<AxesSubplot:xlabel='Fare', ylabel='Density'>"
      ]
     },
     "execution_count": 24,
     "metadata": {},
     "output_type": "execute_result"
    },
    {
     "data": {
      "image/png": "[encoded data removed]",
      "text/plain": [
       "<Figure size 1080x648 with 1 Axes>"
      ]
     },
     "metadata": {
      "needs_background": "light"
     },
     "output_type": "display_data"
    }
   ],
   "source": [
    "plt.figure(figsize= (15, 9))\n",
    "sns.distplot(df_train['Fare'])"
   ]
  },
  {
   "cell_type": "code",
   "execution_count": 25,
   "id": "6a902876",
   "metadata": {
    "execution": {
     "iopub.execute_input": "2022-03-25T03:52:59.793291Z",
     "iopub.status.busy": "2022-03-25T03:52:59.792682Z",
     "iopub.status.idle": "2022-03-25T03:52:59.799865Z",
     "shell.execute_reply": "2022-03-25T03:52:59.799269Z",
     "shell.execute_reply.started": "2022-03-25T03:50:18.928746Z"
    },
    "papermill": {
     "duration": 0.065329,
     "end_time": "2022-03-25T03:52:59.800020",
     "exception": false,
     "start_time": "2022-03-25T03:52:59.734691",
     "status": "completed"
    },
    "tags": []
   },
   "outputs": [],
   "source": [
    "### Now we have to do  'One-Hot Encoding' of the features.\n",
    "df_train= pd.get_dummies(df_train, drop_first= True, columns= ['Pclass', 'Sex', 'Embarked', 'Parch', 'SibSp'])"
   ]
  },
  {
   "cell_type": "code",
   "execution_count": 26,
   "id": "e44ae951",
   "metadata": {
    "execution": {
     "iopub.execute_input": "2022-03-25T03:52:59.910647Z",
     "iopub.status.busy": "2022-03-25T03:52:59.905223Z",
     "iopub.status.idle": "2022-03-25T03:52:59.920233Z",
     "shell.execute_reply": "2022-03-25T03:52:59.919593Z",
     "shell.execute_reply.started": "2022-03-25T03:50:18.942957Z"
    },
    "papermill": {
     "duration": 0.071228,
     "end_time": "2022-03-25T03:52:59.920368",
     "exception": false,
     "start_time": "2022-03-25T03:52:59.849140",
     "status": "completed"
    },
    "tags": []
   },
   "outputs": [
    {
     "data": {
      "text/html": [
       "<div>\n",
       "<style scoped>\n",
       "    .dataframe tbody tr th:only-of-type {\n",
       "        vertical-align: middle;\n",
       "    }\n",
       "\n",
       "    .dataframe tbody tr th {\n",
       "        vertical-align: top;\n",
       "    }\n",
       "\n",
       "    .dataframe thead th {\n",
       "        text-align: right;\n",
       "    }\n",
       "</style>\n",
       "<table border=\"1\" class=\"dataframe\">\n",
       "  <thead>\n",
       "    <tr style=\"text-align: right;\">\n",
       "      <th></th>\n",
       "      <th>Survived</th>\n",
       "      <th>Age</th>\n",
       "      <th>Fare</th>\n",
       "      <th>Pclass_2</th>\n",
       "      <th>Pclass_3</th>\n",
       "      <th>Sex_1</th>\n",
       "      <th>Embarked_1</th>\n",
       "      <th>Embarked_2</th>\n",
       "      <th>Parch_1</th>\n",
       "      <th>Parch_2</th>\n",
       "      <th>Parch_3</th>\n",
       "      <th>Parch_4</th>\n",
       "      <th>Parch_5</th>\n",
       "      <th>Parch_6</th>\n",
       "      <th>SibSp_1</th>\n",
       "      <th>SibSp_2</th>\n",
       "      <th>SibSp_3</th>\n",
       "      <th>SibSp_4</th>\n",
       "      <th>SibSp_5</th>\n",
       "      <th>SibSp_8</th>\n",
       "    </tr>\n",
       "  </thead>\n",
       "  <tbody>\n",
       "    <tr>\n",
       "      <th>0</th>\n",
       "      <td>0</td>\n",
       "      <td>22.0</td>\n",
       "      <td>1.935438</td>\n",
       "      <td>0</td>\n",
       "      <td>1</td>\n",
       "      <td>1</td>\n",
       "      <td>0</td>\n",
       "      <td>0</td>\n",
       "      <td>0</td>\n",
       "      <td>0</td>\n",
       "      <td>0</td>\n",
       "      <td>0</td>\n",
       "      <td>0</td>\n",
       "      <td>0</td>\n",
       "      <td>1</td>\n",
       "      <td>0</td>\n",
       "      <td>0</td>\n",
       "      <td>0</td>\n",
       "      <td>0</td>\n",
       "      <td>0</td>\n",
       "    </tr>\n",
       "    <tr>\n",
       "      <th>1</th>\n",
       "      <td>1</td>\n",
       "      <td>38.0</td>\n",
       "      <td>4.146318</td>\n",
       "      <td>0</td>\n",
       "      <td>0</td>\n",
       "      <td>0</td>\n",
       "      <td>1</td>\n",
       "      <td>0</td>\n",
       "      <td>0</td>\n",
       "      <td>0</td>\n",
       "      <td>0</td>\n",
       "      <td>0</td>\n",
       "      <td>0</td>\n",
       "      <td>0</td>\n",
       "      <td>1</td>\n",
       "      <td>0</td>\n",
       "      <td>0</td>\n",
       "      <td>0</td>\n",
       "      <td>0</td>\n",
       "      <td>0</td>\n",
       "    </tr>\n",
       "    <tr>\n",
       "      <th>2</th>\n",
       "      <td>1</td>\n",
       "      <td>26.0</td>\n",
       "      <td>1.993730</td>\n",
       "      <td>0</td>\n",
       "      <td>1</td>\n",
       "      <td>0</td>\n",
       "      <td>0</td>\n",
       "      <td>0</td>\n",
       "      <td>0</td>\n",
       "      <td>0</td>\n",
       "      <td>0</td>\n",
       "      <td>0</td>\n",
       "      <td>0</td>\n",
       "      <td>0</td>\n",
       "      <td>0</td>\n",
       "      <td>0</td>\n",
       "      <td>0</td>\n",
       "      <td>0</td>\n",
       "      <td>0</td>\n",
       "      <td>0</td>\n",
       "    </tr>\n",
       "    <tr>\n",
       "      <th>3</th>\n",
       "      <td>1</td>\n",
       "      <td>35.0</td>\n",
       "      <td>3.758647</td>\n",
       "      <td>0</td>\n",
       "      <td>0</td>\n",
       "      <td>0</td>\n",
       "      <td>0</td>\n",
       "      <td>0</td>\n",
       "      <td>0</td>\n",
       "      <td>0</td>\n",
       "      <td>0</td>\n",
       "      <td>0</td>\n",
       "      <td>0</td>\n",
       "      <td>0</td>\n",
       "      <td>1</td>\n",
       "      <td>0</td>\n",
       "      <td>0</td>\n",
       "      <td>0</td>\n",
       "      <td>0</td>\n",
       "      <td>0</td>\n",
       "    </tr>\n",
       "    <tr>\n",
       "      <th>4</th>\n",
       "      <td>0</td>\n",
       "      <td>35.0</td>\n",
       "      <td>2.004158</td>\n",
       "      <td>0</td>\n",
       "      <td>1</td>\n",
       "      <td>1</td>\n",
       "      <td>0</td>\n",
       "      <td>0</td>\n",
       "      <td>0</td>\n",
       "      <td>0</td>\n",
       "      <td>0</td>\n",
       "      <td>0</td>\n",
       "      <td>0</td>\n",
       "      <td>0</td>\n",
       "      <td>0</td>\n",
       "      <td>0</td>\n",
       "      <td>0</td>\n",
       "      <td>0</td>\n",
       "      <td>0</td>\n",
       "      <td>0</td>\n",
       "    </tr>\n",
       "  </tbody>\n",
       "</table>\n",
       "</div>"
      ],
      "text/plain": [
       "   Survived   Age      Fare  Pclass_2  Pclass_3  Sex_1  Embarked_1  \\\n",
       "0         0  22.0  1.935438         0         1      1           0   \n",
       "1         1  38.0  4.146318         0         0      0           1   \n",
       "2         1  26.0  1.993730         0         1      0           0   \n",
       "3         1  35.0  3.758647         0         0      0           0   \n",
       "4         0  35.0  2.004158         0         1      1           0   \n",
       "\n",
       "   Embarked_2  Parch_1  Parch_2  Parch_3  Parch_4  Parch_5  Parch_6  SibSp_1  \\\n",
       "0           0        0        0        0        0        0        0        1   \n",
       "1           0        0        0        0        0        0        0        1   \n",
       "2           0        0        0        0        0        0        0        0   \n",
       "3           0        0        0        0        0        0        0        1   \n",
       "4           0        0        0        0        0        0        0        0   \n",
       "\n",
       "   SibSp_2  SibSp_3  SibSp_4  SibSp_5  SibSp_8  \n",
       "0        0        0        0        0        0  \n",
       "1        0        0        0        0        0  \n",
       "2        0        0        0        0        0  \n",
       "3        0        0        0        0        0  \n",
       "4        0        0        0        0        0  "
      ]
     },
     "execution_count": 26,
     "metadata": {},
     "output_type": "execute_result"
    }
   ],
   "source": [
    "df_train.head()"
   ]
  },
  {
   "cell_type": "markdown",
   "id": "68142958",
   "metadata": {
    "papermill": {
     "duration": 0.049677,
     "end_time": "2022-03-25T03:53:00.020873",
     "exception": false,
     "start_time": "2022-03-25T03:52:59.971196",
     "status": "completed"
    },
    "tags": []
   },
   "source": [
    "### Building The ML Model \n",
    "- Extreme Gradient Boosting"
   ]
  },
  {
   "cell_type": "code",
   "execution_count": 27,
   "id": "1e7dc0b4",
   "metadata": {
    "execution": {
     "iopub.execute_input": "2022-03-25T03:53:00.129109Z",
     "iopub.status.busy": "2022-03-25T03:53:00.128449Z",
     "iopub.status.idle": "2022-03-25T03:53:00.131625Z",
     "shell.execute_reply": "2022-03-25T03:53:00.131156Z",
     "shell.execute_reply.started": "2022-03-25T03:50:18.968991Z"
    },
    "papermill": {
     "duration": 0.060471,
     "end_time": "2022-03-25T03:53:00.131767",
     "exception": false,
     "start_time": "2022-03-25T03:53:00.071296",
     "status": "completed"
    },
    "tags": []
   },
   "outputs": [],
   "source": [
    "X= df_train.drop('Survived', axis=1)\n",
    "y= df_train['Survived']"
   ]
  },
  {
   "cell_type": "code",
   "execution_count": 28,
   "id": "82de4a18",
   "metadata": {
    "execution": {
     "iopub.execute_input": "2022-03-25T03:53:00.237365Z",
     "iopub.status.busy": "2022-03-25T03:53:00.236783Z",
     "iopub.status.idle": "2022-03-25T03:53:00.422826Z",
     "shell.execute_reply": "2022-03-25T03:53:00.422170Z",
     "shell.execute_reply.started": "2022-03-25T03:50:18.980110Z"
    },
    "papermill": {
     "duration": 0.241131,
     "end_time": "2022-03-25T03:53:00.422961",
     "exception": false,
     "start_time": "2022-03-25T03:53:00.181830",
     "status": "completed"
    },
    "tags": []
   },
   "outputs": [],
   "source": [
    "### Split model into train and test data\n",
    "from sklearn.model_selection import train_test_split\n",
    "X_train, X_test, y_train, y_test = train_test_split(X, y, test_size=0.30, random_state= 2022, stratify= y)"
   ]
  },
  {
   "cell_type": "code",
   "execution_count": 29,
   "id": "2e01aa0f",
   "metadata": {
    "execution": {
     "iopub.execute_input": "2022-03-25T03:53:00.530158Z",
     "iopub.status.busy": "2022-03-25T03:53:00.529552Z",
     "iopub.status.idle": "2022-03-25T03:53:00.532063Z",
     "shell.execute_reply": "2022-03-25T03:53:00.531450Z",
     "shell.execute_reply.started": "2022-03-25T03:50:19.190886Z"
    },
    "papermill": {
     "duration": 0.058338,
     "end_time": "2022-03-25T03:53:00.532193",
     "exception": false,
     "start_time": "2022-03-25T03:53:00.473855",
     "status": "completed"
    },
    "tags": []
   },
   "outputs": [],
   "source": [
    "### Now scale the data. So, that its mean= 0 and standard daviation= 1\n",
    "from sklearn.preprocessing import StandardScaler\n",
    "scaler= StandardScaler()"
   ]
  },
  {
   "cell_type": "code",
   "execution_count": 30,
   "id": "840e212a",
   "metadata": {
    "execution": {
     "iopub.execute_input": "2022-03-25T03:53:00.640530Z",
     "iopub.status.busy": "2022-03-25T03:53:00.639559Z",
     "iopub.status.idle": "2022-03-25T03:53:00.646129Z",
     "shell.execute_reply": "2022-03-25T03:53:00.646574Z",
     "shell.execute_reply.started": "2022-03-25T03:50:19.197577Z"
    },
    "papermill": {
     "duration": 0.063698,
     "end_time": "2022-03-25T03:53:00.646772",
     "exception": false,
     "start_time": "2022-03-25T03:53:00.583074",
     "status": "completed"
    },
    "tags": []
   },
   "outputs": [],
   "source": [
    "X_train_scaler= scaler.fit_transform(X_train) # For train data we do fit and transform both\n",
    "X_test_sclaer= scaler.transform(X_test)  # For test data we only transform"
   ]
  },
  {
   "cell_type": "code",
   "execution_count": 31,
   "id": "662abd75",
   "metadata": {
    "execution": {
     "iopub.execute_input": "2022-03-25T03:53:00.750886Z",
     "iopub.status.busy": "2022-03-25T03:53:00.749080Z",
     "iopub.status.idle": "2022-03-25T03:53:00.854843Z",
     "shell.execute_reply": "2022-03-25T03:53:00.854234Z",
     "shell.execute_reply.started": "2022-03-25T03:50:19.219486Z"
    },
    "papermill": {
     "duration": 0.158773,
     "end_time": "2022-03-25T03:53:00.854993",
     "exception": false,
     "start_time": "2022-03-25T03:53:00.696220",
     "status": "completed"
    },
    "tags": []
   },
   "outputs": [],
   "source": [
    "### Import XGB Library\n",
    "from xgboost import XGBClassifier\n",
    "Xgb_classi= XGBClassifier(learning_rate = 0.09,\n",
    "                          booster= 'dart',\n",
    "                          max_depth = 4)"
   ]
  },
  {
   "cell_type": "code",
   "execution_count": 32,
   "id": "832af1fe",
   "metadata": {
    "execution": {
     "iopub.execute_input": "2022-03-25T03:53:00.960065Z",
     "iopub.status.busy": "2022-03-25T03:53:00.959076Z",
     "iopub.status.idle": "2022-03-25T03:53:01.567475Z",
     "shell.execute_reply": "2022-03-25T03:53:01.566931Z",
     "shell.execute_reply.started": "2022-03-25T03:50:19.332673Z"
    },
    "papermill": {
     "duration": 0.66248,
     "end_time": "2022-03-25T03:53:01.567644",
     "exception": false,
     "start_time": "2022-03-25T03:53:00.905164",
     "status": "completed"
    },
    "tags": []
   },
   "outputs": [
    {
     "name": "stdout",
     "output_type": "stream",
     "text": [
      "[03:53:00] WARNING: ../src/learner.cc:1115: Starting in XGBoost 1.3.0, the default evaluation metric used with the objective 'binary:logistic' was changed from 'error' to 'logloss'. Explicitly set eval_metric if you'd like to restore the old behavior.\n"
     ]
    }
   ],
   "source": [
    "model = Xgb_classi.fit(X_train_scaler, y_train)"
   ]
  },
  {
   "cell_type": "code",
   "execution_count": 33,
   "id": "f10e0257",
   "metadata": {
    "execution": {
     "iopub.execute_input": "2022-03-25T03:53:01.672440Z",
     "iopub.status.busy": "2022-03-25T03:53:01.671509Z",
     "iopub.status.idle": "2022-03-25T03:53:01.690613Z",
     "shell.execute_reply": "2022-03-25T03:53:01.691226Z",
     "shell.execute_reply.started": "2022-03-25T03:50:19.972654Z"
    },
    "papermill": {
     "duration": 0.07402,
     "end_time": "2022-03-25T03:53:01.691408",
     "exception": false,
     "start_time": "2022-03-25T03:53:01.617388",
     "status": "completed"
    },
    "tags": []
   },
   "outputs": [],
   "source": [
    "### Predicting the test values\n",
    "y_pred= model.predict(X_test_sclaer)"
   ]
  },
  {
   "cell_type": "markdown",
   "id": "05aeab66",
   "metadata": {
    "execution": {
     "iopub.execute_input": "2022-03-25T03:07:11.469914Z",
     "iopub.status.busy": "2022-03-25T03:07:11.469295Z",
     "iopub.status.idle": "2022-03-25T03:07:11.473651Z",
     "shell.execute_reply": "2022-03-25T03:07:11.472974Z",
     "shell.execute_reply.started": "2022-03-25T03:07:11.469869Z"
    },
    "papermill": {
     "duration": 0.04971,
     "end_time": "2022-03-25T03:53:01.790937",
     "exception": false,
     "start_time": "2022-03-25T03:53:01.741227",
     "status": "completed"
    },
    "tags": []
   },
   "source": [
    "### Evaluating the Model"
   ]
  },
  {
   "cell_type": "code",
   "execution_count": 34,
   "id": "6b167074",
   "metadata": {
    "execution": {
     "iopub.execute_input": "2022-03-25T03:53:01.894422Z",
     "iopub.status.busy": "2022-03-25T03:53:01.893796Z",
     "iopub.status.idle": "2022-03-25T03:53:01.897127Z",
     "shell.execute_reply": "2022-03-25T03:53:01.897652Z",
     "shell.execute_reply.started": "2022-03-25T03:50:19.993514Z"
    },
    "papermill": {
     "duration": 0.056201,
     "end_time": "2022-03-25T03:53:01.897812",
     "exception": false,
     "start_time": "2022-03-25T03:53:01.841611",
     "status": "completed"
    },
    "tags": []
   },
   "outputs": [],
   "source": [
    "from sklearn.metrics import accuracy_score, confusion_matrix, classification_report"
   ]
  },
  {
   "cell_type": "code",
   "execution_count": 35,
   "id": "f1838e21",
   "metadata": {
    "execution": {
     "iopub.execute_input": "2022-03-25T03:53:02.002583Z",
     "iopub.status.busy": "2022-03-25T03:53:02.001909Z",
     "iopub.status.idle": "2022-03-25T03:53:02.014409Z",
     "shell.execute_reply": "2022-03-25T03:53:02.014909Z",
     "shell.execute_reply.started": "2022-03-25T03:50:20.003024Z"
    },
    "papermill": {
     "duration": 0.065544,
     "end_time": "2022-03-25T03:53:02.015091",
     "exception": false,
     "start_time": "2022-03-25T03:53:01.949547",
     "status": "completed"
    },
    "tags": []
   },
   "outputs": [
    {
     "name": "stdout",
     "output_type": "stream",
     "text": [
      "The Accuracy Score: 0.8164794007490637\n",
      "\n",
      "\n",
      "The Confusion Matrix:\n",
      " [[147  18]\n",
      " [ 31  71]]\n",
      "\n",
      "\n",
      "The Classification Report:\n",
      "               precision    recall  f1-score   support\n",
      "\n",
      "           0       0.83      0.89      0.86       165\n",
      "           1       0.80      0.70      0.74       102\n",
      "\n",
      "    accuracy                           0.82       267\n",
      "   macro avg       0.81      0.79      0.80       267\n",
      "weighted avg       0.82      0.82      0.81       267\n",
      "\n"
     ]
    }
   ],
   "source": [
    "\n",
    "print(f'The Accuracy Score: {accuracy_score(y_test, y_pred)}')\n",
    "print('\\n')\n",
    "print(f'The Confusion Matrix:\\n {confusion_matrix(y_test, y_pred)}')\n",
    "print('\\n')\n",
    "print(f'The Classification Report:\\n {classification_report(y_test, y_pred)}')\n"
   ]
  },
  {
   "cell_type": "code",
   "execution_count": 36,
   "id": "26d9859d",
   "metadata": {
    "execution": {
     "iopub.execute_input": "2022-03-25T03:53:02.119749Z",
     "iopub.status.busy": "2022-03-25T03:53:02.119184Z",
     "iopub.status.idle": "2022-03-25T03:53:02.349362Z",
     "shell.execute_reply": "2022-03-25T03:53:02.348858Z",
     "shell.execute_reply.started": "2022-03-25T03:50:20.025385Z"
    },
    "papermill": {
     "duration": 0.282941,
     "end_time": "2022-03-25T03:53:02.349542",
     "exception": false,
     "start_time": "2022-03-25T03:53:02.066601",
     "status": "completed"
    },
    "tags": []
   },
   "outputs": [
    {
     "data": {
      "text/plain": [
       "<sklearn.metrics._plot.roc_curve.RocCurveDisplay at 0x7f138de0dd10>"
      ]
     },
     "execution_count": 36,
     "metadata": {},
     "output_type": "execute_result"
    },
    {
     "data": {
      "image/png": "[encoded data removed]",
      "text/plain": [
       "<Figure size 432x288 with 1 Axes>"
      ]
     },
     "metadata": {
      "needs_background": "light"
     },
     "output_type": "display_data"
    }
   ],
   "source": [
    "### Roc_curve\n",
    "from sklearn.metrics import plot_roc_curve\n",
    "plot_roc_curve(model, X_test_sclaer, y_test)"
   ]
  },
  {
   "cell_type": "markdown",
   "id": "edce8b5a",
   "metadata": {
    "papermill": {
     "duration": 0.050616,
     "end_time": "2022-03-25T03:53:02.451579",
     "exception": false,
     "start_time": "2022-03-25T03:53:02.400963",
     "status": "completed"
    },
    "tags": []
   },
   "source": [
    "### Since the performance of model is not up to the mark we can perfrom Hyperparameter Tuning Techniques."
   ]
  }
 ],
 "metadata": {
  "kernelspec": {
   "display_name": "Python 3",
   "language": "python",
   "name": "python3"
  },
  "language_info": {
   "codemirror_mode": {
    "name": "ipython",
    "version": 3
   },
   "file_extension": ".py",
   "mimetype": "text/x-python",
   "name": "python",
   "nbconvert_exporter": "python",
   "pygments_lexer": "ipython3",
   "version": "3.7.12"
  },
  "papermill": {
   "default_parameters": {},
   "duration": 19.791358,
   "end_time": "2022-03-25T03:53:03.212898",
   "environment_variables": {},
   "exception": null,
   "input_path": "__notebook__.ipynb",
   "output_path": "__notebook__.ipynb",
   "parameters": {},
   "start_time": "2022-03-25T03:52:43.421540",
   "version": "2.3.3"
  }
 },
 "nbformat": 4,
 "nbformat_minor": 5
}
